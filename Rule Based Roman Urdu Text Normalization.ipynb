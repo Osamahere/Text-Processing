{
 "cells": [
  {
   "cell_type": "markdown",
   "id": "43708fa5",
   "metadata": {
    "id": "43708fa5"
   },
   "source": [
    "#### Rule Based Roman Urdu Text Normalization"
   ]
  },
  {
   "cell_type": "markdown",
   "id": "2e1f761e",
   "metadata": {
    "id": "2e1f761e"
   },
   "source": [
    "Roman Urdu lacks standard lexicon and usually many spelling variations exist for a given word, e.g., the word zindagi (life) is also written as zindagee, zindagy, zaindagee and zndagi. So, in this question you have to Normalize Roman Urdu words using the following Rules given in the attached Pdf. Your Code works for a complete Sentence or multiple sentences.\n",
    "\n",
    "For Example: zaroori, zaruri, zarori map to the 'zrory'. So zrory becomes the correct word for all representations mentioned above."
   ]
  },
  {
   "cell_type": "code",
   "execution_count": 8,
   "id": "81b08ba6",
   "metadata": {},
   "outputs": [],
   "source": [
    "rules = {\n",
    "    r'ain$': 'ein',\n",
    "    r'(?<!^)ar': 'r',  \n",
    "    r'(?<!^)ai': 'ae', \n",
    "    r'iy+': 'I',\n",
    "    r'ay$': 'e',\n",
    "    r'ih+': 'eh',\n",
    "    r'ey$': 'e',\n",
    "    r's+': 's',\n",
    "    r'ie$': 'y',\n",
    "    r'(?<!$)ry': 'ri',\n",
    "    r'^es': 'is',\n",
    "    r'(?<!$)sy': 'si',\n",
    "    r'a+': 'a',\n",
    "    r'(?<!$)ty': 'ti',\n",
    "    r'j+': 'j',\n",
    "    r'o+': 'o',\n",
    "    r'ee+': 'i',\n",
    "    r'(?<=[bcdefghijklmnopqrtuvwxyz])i$': 'y',\n",
    "    r'd+': 'd',\n",
    "    'u': 'o'\n",
    "}\n"
   ]
  },
  {
   "cell_type": "code",
   "execution_count": 13,
   "id": "dd7e7159",
   "metadata": {
    "id": "dd7e7159"
   },
   "outputs": [
    {
     "name": "stdout",
     "output_type": "stream",
     "text": [
      "['zrory']\n"
     ]
    }
   ],
   "source": [
    "import re\n",
    "\n",
    "def apply_transformation_rules(text, rules):\n",
    "    for pattern, replacement in rules.items():\n",
    "        text = re.sub(pattern, replacement, text)\n",
    "    return text\n",
    "\n",
    "# Test\n",
    "words = [\"zaroori\"]\n",
    "normalized_words = [apply_transformation_rules(word, rules) for word in words]\n",
    "print(normalized_words)"
   ]
  }
 ],
 "metadata": {
  "colab": {
   "provenance": []
  },
  "kernelspec": {
   "display_name": "Python 3 (ipykernel)",
   "language": "python",
   "name": "python3"
  },
  "language_info": {
   "codemirror_mode": {
    "name": "ipython",
    "version": 3
   },
   "file_extension": ".py",
   "mimetype": "text/x-python",
   "name": "python",
   "nbconvert_exporter": "python",
   "pygments_lexer": "ipython3",
   "version": "3.11.5"
  }
 },
 "nbformat": 4,
 "nbformat_minor": 5
}
